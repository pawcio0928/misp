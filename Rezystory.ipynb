{
  "nbformat": 4,
  "nbformat_minor": 0,
  "metadata": {
    "colab": {
      "name": "mostek",
      "provenance": [],
      "collapsed_sections": []
    },
    "kernelspec": {
      "name": "python3",
      "display_name": "Python 3"
    }
  },
  "cells": [
    {
      "source": [
        "# Zadania optymalizacyjne z elektrotechniki\n",
        "## 3.1 Mostek rezystorowy\n",
        "\n",
        "![challenge.png](obrazki/Rezystory1.png)\n",
        "\n",
        "Na podstawie informacji zawartych w tabeli oraz na podstawie schematu należało określić rezystancję oporników tak aby wartości prądów znjdowały się w określonym zakresie a napięcie było zgodne z podanym, a moc rozpraszana na wyjściu była jak najmniejsza. \n",
        "\n",
        "\n",
        "W tym celu zainstalowano potrzebne bibloteki i przystąpiłem do tworzenia zadania optymalizacyjnego z wykorzystaniem Pulp.\n"
      ],
      "cell_type": "markdown",
      "metadata": {}
    },
    {
      "cell_type": "code",
      "metadata": {
        "id": "E-iAkWyYQ0rD",
        "colab": {
          "base_uri": "https://localhost:8080/"
        },
        "outputId": "83d07751-971c-4c44-c55b-d8c04deb6255"
      },
      "source": [
        "!pip install pulp\n",
        "!sudo apt-get install coinor-cbc glpk-utils coinor-clp"
      ],
      "execution_count": 1,
      "outputs": [
        {
          "output_type": "stream",
          "text": [
            "Collecting pulp\n",
            "\u001b[?25l  Downloading https://files.pythonhosted.org/packages/89/0c/6d80f5f81a92d1733cc5ca180491b8a3cd5839e335627a0046c81b7d3d3d/PuLP-2.3.1-py3-none-any.whl (40.6MB)\n",
            "\u001b[K     |████████████████████████████████| 40.6MB 98kB/s \n",
            "\u001b[?25hCollecting amply>=0.1.2\n",
            "  Downloading https://files.pythonhosted.org/packages/f3/c5/dfa09dd2595a2ab2ab4e6fa7bebef9565812722e1980d04b0edce5032066/amply-0.1.4-py3-none-any.whl\n",
            "Requirement already satisfied: pyparsing in /usr/local/lib/python3.6/dist-packages (from amply>=0.1.2->pulp) (2.4.7)\n",
            "Requirement already satisfied: docutils>=0.3 in /usr/local/lib/python3.6/dist-packages (from amply>=0.1.2->pulp) (0.16)\n",
            "Installing collected packages: amply, pulp\n",
            "Successfully installed amply-0.1.4 pulp-2.3.1\n",
            "Reading package lists... Done\n",
            "Building dependency tree       \n",
            "Reading state information... Done\n",
            "The following additional packages will be installed:\n",
            "  coinor-libcbc3 coinor-libcgl1 coinor-libclp1 coinor-libcoinutils3v5\n",
            "  coinor-libosi1v5 libamd2 libcolamd2 libglpk40 libsuitesparseconfig5\n",
            "Suggested packages:\n",
            "  libiodbc2-dev default-libmysqlclient-dev\n",
            "The following NEW packages will be installed:\n",
            "  coinor-cbc coinor-clp coinor-libcbc3 coinor-libcgl1 coinor-libclp1\n",
            "  coinor-libcoinutils3v5 coinor-libosi1v5 glpk-utils libamd2 libcolamd2\n",
            "  libglpk40 libsuitesparseconfig5\n",
            "0 upgraded, 12 newly installed, 0 to remove and 14 not upgraded.\n",
            "Need to get 3,439 kB of archives.\n",
            "After this operation, 9,832 kB of additional disk space will be used.\n",
            "Get:1 http://archive.ubuntu.com/ubuntu bionic/main amd64 libsuitesparseconfig5 amd64 1:5.1.2-2 [9,044 B]\n",
            "Get:2 http://archive.ubuntu.com/ubuntu bionic/main amd64 libamd2 amd64 1:5.1.2-2 [19.5 kB]\n",
            "Get:3 http://archive.ubuntu.com/ubuntu bionic/main amd64 libcolamd2 amd64 1:5.1.2-2 [16.2 kB]\n",
            "Get:4 http://archive.ubuntu.com/ubuntu bionic/universe amd64 libglpk40 amd64 4.65-1 [378 kB]\n",
            "Get:5 http://archive.ubuntu.com/ubuntu bionic/universe amd64 glpk-utils amd64 4.65-1 [269 kB]\n",
            "Get:6 http://archive.ubuntu.com/ubuntu bionic/universe amd64 coinor-libcoinutils3v5 amd64 2.10.14+repack1-1 [472 kB]\n",
            "Get:7 http://archive.ubuntu.com/ubuntu bionic/universe amd64 coinor-libosi1v5 amd64 0.107.9+repack1-1 [270 kB]\n",
            "Get:8 http://archive.ubuntu.com/ubuntu bionic/universe amd64 coinor-libclp1 amd64 1.16.11+repack1-1 [863 kB]\n",
            "Get:9 http://archive.ubuntu.com/ubuntu bionic/universe amd64 coinor-libcgl1 amd64 0.59.10+repack1-1 [433 kB]\n",
            "Get:10 http://archive.ubuntu.com/ubuntu bionic/universe amd64 coinor-libcbc3 amd64 2.9.9+repack1-1 [687 kB]\n",
            "Get:11 http://archive.ubuntu.com/ubuntu bionic/universe amd64 coinor-cbc amd64 2.9.9+repack1-1 [11.2 kB]\n",
            "Get:12 http://archive.ubuntu.com/ubuntu bionic/universe amd64 coinor-clp amd64 1.16.11+repack1-1 [9,646 B]\n",
            "Fetched 3,439 kB in 1s (3,743 kB/s)\n",
            "debconf: unable to initialize frontend: Dialog\n",
            "debconf: (No usable dialog-like program is installed, so the dialog based frontend cannot be used. at /usr/share/perl5/Debconf/FrontEnd/Dialog.pm line 76, <> line 12.)\n",
            "debconf: falling back to frontend: Readline\n",
            "debconf: unable to initialize frontend: Readline\n",
            "debconf: (This frontend requires a controlling tty.)\n",
            "debconf: falling back to frontend: Teletype\n",
            "dpkg-preconfigure: unable to re-open stdin: \n",
            "Selecting previously unselected package libsuitesparseconfig5:amd64.\n",
            "(Reading database ... 144793 files and directories currently installed.)\n",
            "Preparing to unpack .../00-libsuitesparseconfig5_1%3a5.1.2-2_amd64.deb ...\n",
            "Unpacking libsuitesparseconfig5:amd64 (1:5.1.2-2) ...\n",
            "Selecting previously unselected package libamd2:amd64.\n",
            "Preparing to unpack .../01-libamd2_1%3a5.1.2-2_amd64.deb ...\n",
            "Unpacking libamd2:amd64 (1:5.1.2-2) ...\n",
            "Selecting previously unselected package libcolamd2:amd64.\n",
            "Preparing to unpack .../02-libcolamd2_1%3a5.1.2-2_amd64.deb ...\n",
            "Unpacking libcolamd2:amd64 (1:5.1.2-2) ...\n",
            "Selecting previously unselected package libglpk40:amd64.\n",
            "Preparing to unpack .../03-libglpk40_4.65-1_amd64.deb ...\n",
            "Unpacking libglpk40:amd64 (4.65-1) ...\n",
            "Selecting previously unselected package glpk-utils.\n",
            "Preparing to unpack .../04-glpk-utils_4.65-1_amd64.deb ...\n",
            "Unpacking glpk-utils (4.65-1) ...\n",
            "Selecting previously unselected package coinor-libcoinutils3v5.\n",
            "Preparing to unpack .../05-coinor-libcoinutils3v5_2.10.14+repack1-1_amd64.deb ...\n",
            "Unpacking coinor-libcoinutils3v5 (2.10.14+repack1-1) ...\n",
            "Selecting previously unselected package coinor-libosi1v5.\n",
            "Preparing to unpack .../06-coinor-libosi1v5_0.107.9+repack1-1_amd64.deb ...\n",
            "Unpacking coinor-libosi1v5 (0.107.9+repack1-1) ...\n",
            "Selecting previously unselected package coinor-libclp1.\n",
            "Preparing to unpack .../07-coinor-libclp1_1.16.11+repack1-1_amd64.deb ...\n",
            "Unpacking coinor-libclp1 (1.16.11+repack1-1) ...\n",
            "Selecting previously unselected package coinor-libcgl1.\n",
            "Preparing to unpack .../08-coinor-libcgl1_0.59.10+repack1-1_amd64.deb ...\n",
            "Unpacking coinor-libcgl1 (0.59.10+repack1-1) ...\n",
            "Selecting previously unselected package coinor-libcbc3.\n",
            "Preparing to unpack .../09-coinor-libcbc3_2.9.9+repack1-1_amd64.deb ...\n",
            "Unpacking coinor-libcbc3 (2.9.9+repack1-1) ...\n",
            "Selecting previously unselected package coinor-cbc.\n",
            "Preparing to unpack .../10-coinor-cbc_2.9.9+repack1-1_amd64.deb ...\n",
            "Unpacking coinor-cbc (2.9.9+repack1-1) ...\n",
            "Selecting previously unselected package coinor-clp.\n",
            "Preparing to unpack .../11-coinor-clp_1.16.11+repack1-1_amd64.deb ...\n",
            "Unpacking coinor-clp (1.16.11+repack1-1) ...\n",
            "Setting up libsuitesparseconfig5:amd64 (1:5.1.2-2) ...\n",
            "Setting up libcolamd2:amd64 (1:5.1.2-2) ...\n",
            "Setting up coinor-libcoinutils3v5 (2.10.14+repack1-1) ...\n",
            "Setting up coinor-libosi1v5 (0.107.9+repack1-1) ...\n",
            "Setting up coinor-libclp1 (1.16.11+repack1-1) ...\n",
            "Setting up libamd2:amd64 (1:5.1.2-2) ...\n",
            "Setting up coinor-libcgl1 (0.59.10+repack1-1) ...\n",
            "Setting up libglpk40:amd64 (4.65-1) ...\n",
            "Setting up coinor-clp (1.16.11+repack1-1) ...\n",
            "Setting up coinor-libcbc3 (2.9.9+repack1-1) ...\n",
            "Setting up glpk-utils (4.65-1) ...\n",
            "Setting up coinor-cbc (2.9.9+repack1-1) ...\n",
            "Processing triggers for man-db (2.8.3-2ubuntu0.1) ...\n",
            "Processing triggers for libc-bin (2.27-3ubuntu1.2) ...\n",
            "/sbin/ldconfig.real: /usr/local/lib/python3.6/dist-packages/ideep4py/lib/libmkldnn.so.0 is not a symbolic link\n",
            "\n"
          ],
          "name": "stdout"
        }
      ]
    },
    {
      "cell_type": "code",
      "metadata": {
        "id": "QN5zohkmQ3CC",
        "colab": {
          "base_uri": "https://localhost:8080/"
        },
        "outputId": "71c622f8-9de8-41d0-c0b2-2fc443db572e"
      },
      "source": [
        "# Import PuLP modeler functions\n",
        "from pulp import *\n",
        "import pandas as pd\n",
        "prob = LpProblem(\"Mostek\",LpMinimize)\n",
        "\n",
        "I1 = LpVariable(\"Prąd1\",0)\n",
        "I2 = LpVariable(\"Prąd2\",0)\n",
        "I3 = LpVariable(\"Prąd3\",0)\n",
        "I4 = LpVariable(\"Prąd4\",0)\n",
        "I5 = LpVariable(\"Prąd5\",0)\n",
        "\n",
        "\n",
        "prob += 6*I1 + 10*I2 + 4*I3 + 7*I4 + 3*I5, \"Moc\"\n",
        "prob += 3 <= I1, \"Prąd1 min\"\n",
        "prob += I1 <= 5, \"Prąd1 max\"\n",
        "prob += 1 <= I2, \"Prąd2 min\"\n",
        "prob += I2 <= 3, \"Prąd2 max\"\n",
        "prob += 1 <= I3, \"Prąd3 min\"\n",
        "prob += I3 <= 3, \"Prąd3 max\"\n",
        "prob += 1 <= I4, \"Prąd4 min\"\n",
        "prob += I4 <= 3, \"Prąd4 max\"\n",
        "prob += 3 <= I5, \"Prąd5 min\"\n",
        "prob += I5 <= 5, \"Prąd5 max\"\n",
        "\n",
        "prob.writeLP(\"MostekModel.lp\")\n",
        "prob.solve()\n",
        "\n",
        "print (\"Status:\", LpStatus[prob.status])\n",
        "\n",
        "for v in prob.variables():\n",
        "    print (v.name, \"=\", v.varValue,\"A,\")\n",
        "\n",
        "print(\"R1 =\", 6/I1.varValue,\"k,\")\n",
        "print(\"R2 =\", 10/I2.varValue,\"k,\")\n",
        "print(\"R3 =\", 4/I3.varValue,\"k,\")\n",
        "print(\"R4 =\", 7/I4.varValue,\"k,\")\n",
        "print(\"R5 =\", 3/I5.varValue,\"k\")\n"
      ],
      "execution_count": 6,
      "outputs": [
        {
          "output_type": "stream",
          "text": [
            "Status: Optimal\n",
            "Prąd1 = 3.0 A,\n",
            "Prąd2 = 1.0 A,\n",
            "Prąd3 = 1.0 A,\n",
            "Prąd4 = 1.0 A,\n",
            "Prąd5 = 3.0 A,\n",
            "R1 = 2.0 k,\n",
            "R2 = 10.0 k,\n",
            "R3 = 4.0 k,\n",
            "R4 = 7.0 k,\n",
            "R5 = 1.0 k\n"
          ],
          "name": "stdout"
        }
      ]
    },
    {
      "source": [
        "Zmiennymi decyzyjnymi w tym przypadku zrobiłem prądy. W przypadku gdy mamy stałe napięcia to zmniejszając prąd zmniejszamy również wydzielaną moc. Pierwszym ograniczeniem była moc, która jest sumą mocy wydzielanych na rezystancji. Z racji, że napięcie jest stałe sprowadza się to do prostej sumy iloczynu napięć i prądów\n",
        "\n",
        "Kolejnymi ograniczeniami są przedziały prądów jakie mogą płynąć przez rezystory.\n",
        "\n",
        "\n",
        "Po wyznaczeniu prądów wyliczono wartości rezystancji.\n"
      ],
      "cell_type": "markdown",
      "metadata": {}
    },
    {
      "source": [
        "##  3.2 Układ rezystorów\n",
        "\n",
        "![challenge.png](obrazki/Rezystory2.png)\n",
        "\n",
        "Na podstawie schematu i danych należało wyznaczyć maksymalny prąd, który może popłynąć przez gałąź. Określone mieliśmy rezystancje kolejnych rezystorów oraz ich maksymalne prądy."
      ],
      "cell_type": "markdown",
      "metadata": {}
    },
    {
      "cell_type": "code",
      "metadata": {
        "id": "rVUJSSP1f6pK",
        "colab": {
          "base_uri": "https://localhost:8080/"
        },
        "outputId": "78f599f7-9731-46c6-844c-9c8fe4914d09"
      },
      "source": [
        "# Import PuLP modeler functions\n",
        "from pulp import *\n",
        "import pandas as pd\n",
        "prob = LpProblem(\"UkładRezystorów\",LpMaximize)\n",
        "\n",
        "I1 = LpVariable(\"Prąd1\",0)\n",
        "I2 = LpVariable(\"Prąd2\",0)\n",
        "I3 = LpVariable(\"Prąd3\",0)\n",
        "I4 = LpVariable(\"Prąd4\",0)\n",
        "I5 = LpVariable(\"Prąd5\",0)\n",
        "\n",
        "prob += I3, \"Maksymalny prąd układu\"\n",
        "prob += I1 + I2 == I3, \"Prąd lewa strona\"\n",
        "prob += I5 + I4 == I3, \"Prąd prawa strona\"\n",
        "prob += I1*8 == I2*6, \"Napięcie po lewej\"\n",
        "prob += I5*8 == I4*10, \"Napięcie po prawej\"\n",
        "prob += I1 <= 2, \"I1\"\n",
        "prob += I2 <= 3, \"I2\"\n",
        "prob += I3 <= 4, \"I3\"\n",
        "prob += I4 <= 2, \"I4\"\n",
        "prob += I5 <= 2, \"I5\"\n",
        "\n",
        "prob.writeLP(\"UkladModel.lp\")\n",
        "prob.solve()\n",
        "print (\"Status:\", LpStatus[prob.status])\n",
        "\n",
        "for v in prob.variables():\n",
        "    print (v.name, \"=\", v.varValue, \"A,\")\n",
        "\n",
        "print(\"Maksymalny prąd wynosi \",I3.varValue,\"A\")"
      ],
      "execution_count": 10,
      "outputs": [
        {
          "output_type": "stream",
          "text": [
            "Status: Optimal\n",
            "Prąd1 = 1.5428571 A,\n",
            "Prąd2 = 2.0571429 A,\n",
            "Prąd3 = 3.6 A,\n",
            "Prąd4 = 1.6 A,\n",
            "Prąd5 = 2.0 A,\n",
            "Maksymalny prąd wynosi  3.6 A\n"
          ],
          "name": "stdout"
        }
      ]
    },
    {
      "source": [
        "W tym wypadku maksymalny prąd dla całego układu narzuca nam rezystor R3. Następnie dodano ograniczenia wynikajace z I prawa Kirchhoffa, że suma prądów wpływająca do oczka musi być równa wypływającym. Rezystory połączone równolegle muszą mieć ten sam spadek napięcia. Finalnie wprowadzono ograniczenie wynikające z tabeli podanej w zadaniu.\n",
        "\n",
        "Program poprawnie wyliczył wartość prądu. \n",
        "\n",
        "\n",
        "\n",
        "Ze względu na małą złożoność wykonanych operacji oraz fakt, że było niewiele zmiennych większość rzeczy wpisano po prostu w kod, bez tworzenia tablic i podobnych konstrukcji. "
      ],
      "cell_type": "markdown",
      "metadata": {}
    }
  ]
}