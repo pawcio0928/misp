{
 "cells": [
  {
   "cell_type": "code",
   "execution_count": 5,
   "metadata": {},
   "outputs": [
    {
     "output_type": "stream",
     "name": "stdout",
     "text": [
      "5\n"
     ]
    }
   ],
   "source": [
    "# komentarz\n",
    "\n",
    "# if\n",
    "\n",
    "wielkosc = 5\n",
    "\n",
    "print(wielkosc)"
   ]
  },
  {
   "cell_type": "code",
   "execution_count": 6,
   "metadata": {},
   "outputs": [
    {
     "output_type": "stream",
     "name": "stdout",
     "text": [
      "w sam raz\n"
     ]
    }
   ],
   "source": [
    "if wielkosc >6:\n",
    "    print(\"ale duze\")\n",
    "elif wielkosc < 3:\n",
    "    print(\"malutkie\")\n",
    "    print('franek')\n",
    "else:\n",
    "    print(\"w sam raz\")"
   ]
  },
  {
   "cell_type": "code",
   "execution_count": 7,
   "metadata": {},
   "outputs": [
    {
     "output_type": "stream",
     "name": "stdout",
     "text": [
      "['Ania', 'Zosia', 'Kasia', 'Franek']\n"
     ]
    }
   ],
   "source": [
    "studenci = [\"Ania\", \"Zosia\", \"Kasia\", \"Franek\"]\n",
    "\n",
    "print(studenci)"
   ]
  },
  {
   "cell_type": "code",
   "execution_count": 8,
   "metadata": {},
   "outputs": [
    {
     "output_type": "execute_result",
     "data": {
      "text/plain": [
       "'n'"
      ]
     },
     "metadata": {},
     "execution_count": 8
    }
   ],
   "source": [
    "studenci[0][1]"
   ]
  },
  {
   "cell_type": "code",
   "execution_count": 9,
   "metadata": {
    "scrolled": true
   },
   "outputs": [
    {
     "output_type": "stream",
     "name": "stdout",
     "text": [
      "student ma na imie: Ania\nstudent ma na imie: Zosia\nstudent ma na imie: Kasia\nstudent ma na imie: Franek\nAnia\nstudent na poczatku alfabetu\nZosia\nKasia\nFranek\n"
     ]
    }
   ],
   "source": [
    "for student in studenci:\n",
    "    print(\"student ma na imie:\", student)\n",
    "    \n",
    "for student in studenci:\n",
    "    print(student)\n",
    "    if student[0]==\"A\":\n",
    "        print(\"student na poczatku alfabetu\")"
   ]
  },
  {
   "cell_type": "code",
   "execution_count": 10,
   "metadata": {},
   "outputs": [
    {
     "output_type": "stream",
     "name": "stdout",
     "text": [
      "student Ania ma numer 0\nstudent Zosia ma numer 1\nstudent Kasia ma numer 2\nstudent Franek ma numer 3\n"
     ]
    }
   ],
   "source": [
    "for numer, student in enumerate(studenci):\n",
    "    print(\"student {} ma numer {}\".format(student,numer))"
   ]
  },
  {
   "cell_type": "code",
   "execution_count": 11,
   "metadata": {},
   "outputs": [
    {
     "output_type": "stream",
     "name": "stdout",
     "text": [
      "student Ania ma numer 0 i ocenę 2\nstudent Zosia ma numer 1 i ocenę 2\nstudent Kasia ma numer 2 i ocenę 5\nstudent Franek ma numer 3 i ocenę 3\n----------------------------------------\nstudent Ania ma numer 0 i ocenę 2\nstudent Zosia ma numer 1 i ocenę 2\nstudent Kasia ma numer 2 i ocenę 5\nstudent Franek ma numer 3 i ocenę 3\n"
     ]
    }
   ],
   "source": [
    "oceny = [2,2,5,3]\n",
    "\n",
    "for numer, student in enumerate(studenci):\n",
    "    print(\"student {} ma numer {} i ocenę {}\".format(student,numer,oceny[numer]))\n",
    "\n",
    "print(\"--\"*20)    \n",
    "for number, (student, ocena) in enumerate(zip(studenci,oceny)):\n",
    "    print(\"student {} ma numer {} i ocenę {}\".format(student,number,ocena))"
   ]
  },
  {
   "cell_type": "code",
   "execution_count": 12,
   "metadata": {},
   "outputs": [],
   "source": [
    "trzy_elementy= [1,2,3]\n",
    "pierwszy,drugi,trzeci= trzy_elementy"
   ]
  },
  {
   "cell_type": "code",
   "execution_count": 27,
   "metadata": {},
   "outputs": [
    {
     "name": "stdout",
     "output_type": "stream",
     "text": [
      "1\n",
      "2\n",
      "3\n",
      "4\n",
      "5\n",
      "6\n",
      "7\n",
      "8\n",
      "9\n"
     ]
    }
   ],
   "source": [
    "n = 1\n",
    "\n",
    "while(n < 10):\n",
    "    print(n)\n",
    "    n+=1"
   ]
  },
  {
   "cell_type": "code",
   "execution_count": 14,
   "metadata": {},
   "outputs": [],
   "source": [
    "def dodaj_dwa(liczba):\n",
    "    return liczba+2\n",
    "\n",
    "def dodaj_trzy(liczba):\n",
    "    return liczba+3\n",
    "\n",
    "def dodaj_dwie_liczby(liczba1,liczba2):\n",
    "    return liczba1+liczba2\n",
    "\n",
    "\n",
    "dodaj_cztery = lambda liczba:liczba+4"
   ]
  },
  {
   "cell_type": "code",
   "execution_count": 15,
   "metadata": {},
   "outputs": [
    {
     "output_type": "stream",
     "name": "stdout",
     "text": [
      "12\n13\n14\n"
     ]
    }
   ],
   "source": [
    "funkcje=[dodaj_dwa,dodaj_trzy,dodaj_cztery]\n",
    "\n",
    "jakis_nr= 10\n",
    "\n",
    "for funkcja in funkcje:\n",
    "    print(funkcja(jakis_nr))"
   ]
  },
  {
   "cell_type": "code",
   "execution_count": 42,
   "metadata": {},
   "outputs": [
    {
     "output_type": "execute_result",
     "data": {
      "text/plain": [
       "['Franek']"
      ]
     },
     "metadata": {},
     "execution_count": 42
    }
   ],
   "source": [
    "# studenci[0]\n",
    "# studenci[1:]\n",
    "studenci[:-1]"
   ]
  },
  {
   "cell_type": "code",
   "execution_count": 1,
   "metadata": {},
   "outputs": [
    {
     "output_type": "stream",
     "name": "stdout",
     "text": [
      "ZAJECIA OD ŚRDOY DO PIĄTKU  ['relax', 'mispy', 'piateczek']\nDzień tygodnia: Pon, Zajecie: wf\nDzień tygodnia: Wto, Zajecie: informatyka\nDzień tygodnia: Czwar, Zajecie: mispy\nDzień tygodnia: Pio, Zajecie: piateczek\n"
     ]
    }
   ],
   "source": [
    "#### challenge 0.1\n",
    "zajecia = [\"wf\",\"informatyka\",\"relax\",\"mispy\",\"piateczek\"]                  #tablica z zajeciami\n",
    "dnityg= [\"Pon\",\"Wto\",\"Sro\",\"Czwar\",\"Pio\"]                                   #tablica z dniami tygodnia\n",
    "print(\"ZAJECIA OD ŚRDOY DO PIĄTKU \",zajecia[2:])                            #wyświetlenie zajec od srody do piatku poprzez wyswietlenie elementów od 2\n",
    "for (zajecia, dni_tyg) in zip(zajecia,dnityg):                              # w pętli łączone są zajęcia i dnityg. W pętli jeśli dzień tygodnia jest różny od \n",
    "    if dni_tyg != \"Sro\":                                                    # środy jest wyswietlany.\n",
    "        print(\"Dzień tygodnia: {}, Zajecie: {}\".format(dni_tyg,zajecia))\n"
   ]
  },
  {
   "cell_type": "code",
   "execution_count": 20,
   "metadata": {},
   "outputs": [
    {
     "output_type": "stream",
     "name": "stdout",
     "text": [
      "W wybranym dniu są 2 zajęcia\n[('Pon', ['wf']), ('Wto', ['informatyka', 'nauka czytania']), ('Sro', ['relax', 'jedzenie']), ('Czwar', ['mispy', 'mispy w domu']), ('Pio', ['piateczek', 'praca domowa z mispow', 'Ilovemispy', 'mispy w czasie snu'])]\n"
     ]
    }
   ],
   "source": [
    "#### challenge 0.2\n",
    "\n",
    "zajecia = [[\"wf\"],\n",
    "           [\"informatyka\", \"nauka czytania\"],\n",
    "           [\"relax\", \"jedzenie\"],\n",
    "           [\"mispy\",\"mispy w domu\"],\n",
    "           [\"piateczek\", \"praca domowa z mispow\", \"Ilovemispy\", \"mispy w czasie snu\"]\n",
    "          ]\n",
    "\n",
    "dnityg= [\"Pon\",\"Wto\",\"Sro\",\"Czwar\",\"Pio\"]\n",
    "\n",
    "\n",
    "#### challene 0.2 \n",
    "def ile_zajec(dzien):                                                                          #definicja funkcji zwarająca ilość zajęć w danynm dniu \n",
    "    numer = dnityg.index(dzien)\n",
    "    return len(zajecia[numer])\n",
    "\n",
    "print(\"W wybranym dniu są {} zajęcia\".format(ile_zajec(\"Czwar\")))                              # wyświetlenie ilości dni w czwartek - test czy funkcja działa \n",
    "\n",
    "# lista_zajec_z_dnia -> ile ich jest\n",
    "# po\n",
    "# posortuj dni po najbardziej zajetych\n",
    "lista_zajec_z_dnia=list(zip(dnityg,zajecia))                                                   #stworzenie listy z skonsolidowanej wartośći dni tyg i zajęć\n",
    "lista_zajec_z_dnia=sorted(lista_zajec_z_dnia,key=lambda ilosc_zajec: ile_zajec(ilosc_zajec[0]))#posortowanie dni tygodnia z użyciem klucza\n",
    "print(\"Posortowane zajęcia:\")\n",
    "print(lista_zajec_z_dnia)\n",
    "# wykorzystałem sortowanie z kluczem z przykładu https://docs.python.org/3/howto/sorting.html#key-functions "
   ]
  },
  {
   "cell_type": "code",
   "execution_count": 31,
   "metadata": {},
   "outputs": [
    {
     "output_type": "stream",
     "name": "stdout",
     "text": [
      "Najwięcej mispów jest w Pio.\n"
     ]
    }
   ],
   "source": [
    "\n",
    "#### challenge 0.3\n",
    "#\n",
    "# napisz program ktory zdajdzie dzien z najwieksza iloscia mispow\n",
    "\n",
    "ilosc_misp = [0,0,0,0,0]\n",
    "for ktory_dzien, (dzien, zajecia_lista) in enumerate(zip(dnityg, zajecia)):\n",
    "    for zaj in zajecia_lista:\n",
    "        if zaj.find(\"misp\")!=-1:\n",
    "            ilosc_misp[ktory_dzien] += 1\n",
    "print(\"Najwięcej mispów jest w {}.\".format(dnityg[ilosc_misp.index(max(ilosc_misp))]))\n",
    "#W petli kolejno sprawdzam kolejne dni tygodnia pod względem ilości zajęć z misp. Następnie zapisuje wartość do tablicy dla każdego dnia i wyświetlam nazwę dnia z maksymalną wartością.\n",
    "\n"
   ]
  },
  {
   "cell_type": "code",
   "execution_count": 38,
   "metadata": {},
   "outputs": [
    {
     "output_type": "stream",
     "name": "stdout",
     "text": [
      "Najwięcej mispów jest w Pio.\n"
     ]
    }
   ],
   "source": []
  },
  {
   "cell_type": "code",
   "execution_count": 32,
   "metadata": {},
   "outputs": [
    {
     "output_type": "execute_result",
     "data": {
      "text/plain": [
       "[(1, '11'), (0, '22'), (2, '33'), (3, '100')]"
      ]
     },
     "metadata": {},
     "execution_count": 32
    }
   ],
   "source": [
    "len(zajecia)\n",
    "\n",
    "zajecia[4][1]\n",
    "\n",
    "\"Ma\" in \"MojaMaMa\"\n",
    "\n",
    "liczby=[\"22\",\"11\",\"33\",\"100\"]\n",
    "liczby_i_nazwy= [(\"22\",\"dwadziescia dwa\"),\n",
    "                 (\"11\",\"jedenascie\"),\n",
    "        (\"33\",\"trzydziesci trzy\"),(\"100\",\"sto\")]\n",
    "sorted(liczby)\n",
    "\n",
    "sorted(liczby, key=int)\n",
    "\n",
    "liczby_kolejnosc= enumerate(liczby)\n",
    "\n",
    "def czy_jest_jeden(liczba):\n",
    "\n",
    "    if \"1\" in liczba:\n",
    "        return 1\n",
    "    else:\n",
    "        return 0\n",
    "def na_liczbe(krotka):\n",
    "         return int(krotka[0])\n",
    "def na_liczbe_index(krotka):\n",
    "         return int(krotka[1])    \n",
    "sorted(liczby, key=czy_jest_jeden)\n",
    "         \n",
    "sorted(liczby_i_nazwy,key=na_liczbe)\n",
    "\n",
    "sorted(liczby_kolejnosc,key=na_liczbe_index)"
   ]
  },
  {
   "cell_type": "code",
   "execution_count": 48,
   "metadata": {},
   "outputs": [
    {
     "data": {
      "text/plain": [
       "<enumerate at 0x7f5efea012d0>"
      ]
     },
     "execution_count": 48,
     "metadata": {},
     "output_type": "execute_result"
    }
   ],
   "source": [
    "sorted(liczby_kolejnosc,key=)"
   ]
  },
  {
   "cell_type": "code",
   "execution_count": null,
   "metadata": {},
   "outputs": [],
   "source": []
  }
 ],
 "metadata": {
  "kernelspec": {
   "name": "python3",
   "display_name": "Python 3.7.6 64-bit",
   "metadata": {
    "interpreter": {
     "hash": "aee8b7b246df8f9039afb4144a1f6fd8d2ca17a180786b69acc140d282b71a49"
    }
   }
  },
  "language_info": {
   "codemirror_mode": {
    "name": "ipython",
    "version": 3
   },
   "file_extension": ".py",
   "mimetype": "text/x-python",
   "name": "python",
   "nbconvert_exporter": "python",
   "pygments_lexer": "ipython3",
   "version": "3.7.6-final"
  }
 },
 "nbformat": 4,
 "nbformat_minor": 2
}